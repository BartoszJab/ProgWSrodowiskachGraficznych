{
  "nbformat": 4,
  "nbformat_minor": 0,
  "metadata": {
    "colab": {
      "name": "PRiR - lab10.ipynb",
      "provenance": [],
      "collapsed_sections": []
    },
    "kernelspec": {
      "name": "python3",
      "display_name": "Python 3"
    },
    "accelerator": "GPU"
  },
  "cells": [
    {
      "cell_type": "markdown",
      "metadata": {
        "id": "mBMzMd70Dy6w"
      },
      "source": [
        "Zadanie 1"
      ]
    },
    {
      "cell_type": "code",
      "metadata": {
        "colab": {
          "base_uri": "https://localhost:8080/"
        },
        "id": "wVwkFl0L88dE",
        "outputId": "241c09f3-1004-42db-9470-5b40bbe3d79e"
      },
      "source": [
        "def prostokatow(function, a, b, i):\r\n",
        "    dx = (b - a) / i\r\n",
        "    integr = 0\r\n",
        "    for x in range(i):\r\n",
        "        x = x * dx + a\r\n",
        "        integr += dx * eval(function)\r\n",
        "    return integr\r\n",
        "integral = prostokatow('x**2', 0.0, 1.0, 100)\r\n",
        "integral"
      ],
      "execution_count": 32,
      "outputs": [
        {
          "output_type": "execute_result",
          "data": {
            "text/plain": [
              "0.32835000000000014"
            ]
          },
          "metadata": {
            "tags": []
          },
          "execution_count": 32
        }
      ]
    },
    {
      "cell_type": "code",
      "metadata": {
        "colab": {
          "base_uri": "https://localhost:8080/"
        },
        "id": "GX_Df-H29Vkb",
        "outputId": "ecebc570-1d69-4952-8875-c3b442484a73"
      },
      "source": [
        "def simpson(my_func, a, b, n):\r\n",
        "  delta_x = (b-a)/n\r\n",
        "  total = 0  \r\n",
        "  for i in range(0, n, 2):\r\n",
        "    x = a + delta_x * 2 * i\r\n",
        "    total += delta_x * (my_func(x) + 4 * my_func(x + delta_x) + my_func(x + 2 * delta_x)) / 3\r\n",
        "  return total\r\n",
        "\r\n",
        "integral = simpson(lambda x: x**2, 0.0, 1.0, 100)\r\n",
        "integral"
      ],
      "execution_count": 33,
      "outputs": [
        {
          "output_type": "execute_result",
          "data": {
            "text/plain": [
              "1.3133333333333335"
            ]
          },
          "metadata": {
            "tags": []
          },
          "execution_count": 33
        }
      ]
    },
    {
      "cell_type": "code",
      "metadata": {
        "colab": {
          "base_uri": "https://localhost:8080/"
        },
        "id": "SKkT5UCp9kzF",
        "outputId": "a7979086-2e0c-4aea-d7df-0cd32d46a303"
      },
      "source": [
        "def trapezow(function, a, b, i):\r\n",
        "    dx = (b - a) / i\r\n",
        "    integr = 0\r\n",
        "    for x in range(i):\r\n",
        "        x = x * dx + a\r\n",
        "        fx1 = eval(function)\r\n",
        "        x += dx\r\n",
        "        fx2 = eval(function)\r\n",
        "        integr += 0.5 * dx * (fx1 + fx2)\r\n",
        "    return integr\r\n",
        "\r\n",
        "integral = trapezow('x**2', 0.0, 1.0, 100)\r\n",
        "integral"
      ],
      "execution_count": 34,
      "outputs": [
        {
          "output_type": "execute_result",
          "data": {
            "text/plain": [
              "0.33335"
            ]
          },
          "metadata": {
            "tags": []
          },
          "execution_count": 34
        }
      ]
    },
    {
      "cell_type": "markdown",
      "metadata": {
        "id": "bCbZUhmcD2gd"
      },
      "source": [
        "Zadanie 2"
      ]
    },
    {
      "cell_type": "code",
      "metadata": {
        "id": "5PoxqCScFdWz"
      },
      "source": [
        "import tensorflow as tf\r\n",
        "import numpy as np\r\n",
        "from tensorflow import keras\r\n",
        "\r\n",
        "# def function(x):\r\n",
        "#   return (x - 2) * (x + 1) * (x - 4)\r\n",
        "\r\n",
        "model = tf.keras.Sequential([keras.layers.Dense(units=1, input_shape=[1])])\r\n",
        "model.compile(optimizer='sgd', loss='mean_squared_error')\r\n",
        "xs = np.array([-1.0, 0.0, 1.0, 2.0, 3.0, 4.0], dtype=float)\r\n",
        "ys = np.array([0.0, 8.0, 6.0, -0.0, -4.0, 0.0], dtype=float)\r\n",
        "\r\n",
        "model.fit(xs, ys, epochs=500)\r\n",
        "print(model.predict([0.0]))\r\n"
      ],
      "execution_count": null,
      "outputs": []
    },
    {
      "cell_type": "markdown",
      "metadata": {
        "id": "ZFAq_-q7nA-l"
      },
      "source": [
        "Zadanie 3"
      ]
    },
    {
      "cell_type": "code",
      "metadata": {
        "colab": {
          "base_uri": "https://localhost:8080/"
        },
        "id": "V52wxZTNnAKE",
        "outputId": "b9336112-3416-4ea0-d615-6d4fa664af65"
      },
      "source": [
        "import tensorflow as tf\r\n",
        "import numpy as np\r\n",
        "import matplotlib.pyplot as plt\r\n",
        "\r\n",
        "fashion_mnist = tf.keras.datasets.fashion_mnist\r\n",
        "\r\n",
        "(train_images, train_labels), (test_images, test_labels) = fashion_mnist.load_data()"
      ],
      "execution_count": 1,
      "outputs": [
        {
          "output_type": "stream",
          "text": [
            "Downloading data from https://storage.googleapis.com/tensorflow/tf-keras-datasets/train-labels-idx1-ubyte.gz\n",
            "32768/29515 [=================================] - 0s 0us/step\n",
            "Downloading data from https://storage.googleapis.com/tensorflow/tf-keras-datasets/train-images-idx3-ubyte.gz\n",
            "26427392/26421880 [==============================] - 0s 0us/step\n",
            "Downloading data from https://storage.googleapis.com/tensorflow/tf-keras-datasets/t10k-labels-idx1-ubyte.gz\n",
            "8192/5148 [===============================================] - 0s 0us/step\n",
            "Downloading data from https://storage.googleapis.com/tensorflow/tf-keras-datasets/t10k-images-idx3-ubyte.gz\n",
            "4423680/4422102 [==============================] - 0s 0us/step\n"
          ],
          "name": "stdout"
        }
      ]
    },
    {
      "cell_type": "code",
      "metadata": {
        "id": "SiqC-C23psMx"
      },
      "source": [
        "class_names = ['T-shirt/top', 'Trouser', 'Pullover', 'Dress', 'Coat',\r\n",
        "               'Sandal', 'Shirt', 'Sneaker', 'Bag', 'Ankle boot']"
      ],
      "execution_count": 2,
      "outputs": []
    },
    {
      "cell_type": "markdown",
      "metadata": {
        "id": "tkSzKfFqq1RI"
      },
      "source": [
        "*przeglądanie danych*"
      ]
    },
    {
      "cell_type": "code",
      "metadata": {
        "colab": {
          "base_uri": "https://localhost:8080/"
        },
        "id": "Z72g_tmFpx-g",
        "outputId": "1a99ffa1-913a-4e2d-c177-c8304700f97b"
      },
      "source": [
        "train_images.shape"
      ],
      "execution_count": 3,
      "outputs": [
        {
          "output_type": "execute_result",
          "data": {
            "text/plain": [
              "(60000, 28, 28)"
            ]
          },
          "metadata": {
            "tags": []
          },
          "execution_count": 3
        }
      ]
    },
    {
      "cell_type": "code",
      "metadata": {
        "colab": {
          "base_uri": "https://localhost:8080/"
        },
        "id": "wKWVTIzwp49r",
        "outputId": "658d321d-1346-4d50-e0bb-595c59986148"
      },
      "source": [
        "len(train_labels)"
      ],
      "execution_count": 4,
      "outputs": [
        {
          "output_type": "execute_result",
          "data": {
            "text/plain": [
              "60000"
            ]
          },
          "metadata": {
            "tags": []
          },
          "execution_count": 4
        }
      ]
    },
    {
      "cell_type": "code",
      "metadata": {
        "colab": {
          "base_uri": "https://localhost:8080/"
        },
        "id": "CXvE9BRAp86J",
        "outputId": "75e777e8-8775-4c02-ff32-cb4361f1e296"
      },
      "source": [
        "train_labels"
      ],
      "execution_count": 5,
      "outputs": [
        {
          "output_type": "execute_result",
          "data": {
            "text/plain": [
              "array([9, 0, 0, ..., 3, 0, 5], dtype=uint8)"
            ]
          },
          "metadata": {
            "tags": []
          },
          "execution_count": 5
        }
      ]
    },
    {
      "cell_type": "code",
      "metadata": {
        "colab": {
          "base_uri": "https://localhost:8080/"
        },
        "id": "MplYJ2eTp_Fd",
        "outputId": "fe5ad5f0-cffe-41f5-f16e-f837c484bb79"
      },
      "source": [
        "test_images.shape"
      ],
      "execution_count": 6,
      "outputs": [
        {
          "output_type": "execute_result",
          "data": {
            "text/plain": [
              "(10000, 28, 28)"
            ]
          },
          "metadata": {
            "tags": []
          },
          "execution_count": 6
        }
      ]
    },
    {
      "cell_type": "code",
      "metadata": {
        "colab": {
          "base_uri": "https://localhost:8080/"
        },
        "id": "DRvk447MqAxN",
        "outputId": "ac1d6274-419e-4e4d-eafb-cbff8509c788"
      },
      "source": [
        "len(test_labels)"
      ],
      "execution_count": 7,
      "outputs": [
        {
          "output_type": "execute_result",
          "data": {
            "text/plain": [
              "10000"
            ]
          },
          "metadata": {
            "tags": []
          },
          "execution_count": 7
        }
      ]
    },
    {
      "cell_type": "code",
      "metadata": {
        "colab": {
          "base_uri": "https://localhost:8080/",
          "height": 264
        },
        "id": "eOXuTAVMqCTn",
        "outputId": "bf6a5b40-81d7-4321-b90d-d5c8ed4e3e4b"
      },
      "source": [
        "plt.figure()\r\n",
        "plt.imshow(train_images[0])\r\n",
        "plt.colorbar()\r\n",
        "plt.grid(False)\r\n",
        "plt.show()"
      ],
      "execution_count": 8,
      "outputs": [
        {
          "output_type": "display_data",
          "data": {
            "image/png": "[encoded data removed]",
            "text/plain": [
              "<Figure size 432x288 with 2 Axes>"
            ]
          },
          "metadata": {
            "tags": [],
            "needs_background": "light"
          }
        }
      ]
    },
    {
      "cell_type": "code",
      "metadata": {
        "id": "jkUvoJvyqJiE"
      },
      "source": [
        "train_images = train_images / 255.0\r\n",
        "\r\n",
        "test_images = test_images / 255.0"
      ],
      "execution_count": 9,
      "outputs": []
    },
    {
      "cell_type": "markdown",
      "metadata": {
        "id": "MLxuVoY0qwH3"
      },
      "source": [
        "*wstępne przetwarzanie danych*"
      ]
    },
    {
      "cell_type": "code",
      "metadata": {
        "colab": {
          "base_uri": "https://localhost:8080/",
          "height": 588
        },
        "id": "EQw_ZorKqLMT",
        "outputId": "be73c891-eaaf-4439-dae8-7764dfdc77e0"
      },
      "source": [
        "plt.figure(figsize=(10,10))\r\n",
        "for i in range(25):\r\n",
        "    plt.subplot(5,5,i+1)\r\n",
        "    plt.xticks([])\r\n",
        "    plt.yticks([])\r\n",
        "    plt.grid(False)\r\n",
        "    plt.imshow(train_images[i], cmap=plt.cm.binary)\r\n",
        "    plt.xlabel(class_names[train_labels[i]])\r\n",
        "plt.show()"
      ],
      "execution_count": 10,
      "outputs": [
        {
          "output_type": "display_data",
          "data": {
            "image/png": "[encoded data removed]",
            "text/plain": [
              "<Figure size 720x720 with 25 Axes>"
            ]
          },
          "metadata": {
            "tags": []
          }
        }
      ]
    },
    {
      "cell_type": "code",
      "metadata": {
        "id": "EW0UvAACqdps"
      },
      "source": [
        "model = tf.keras.Sequential([\r\n",
        "    tf.keras.layers.Flatten(input_shape=(28, 28)),\r\n",
        "    tf.keras.layers.Dense(128, activation='relu'),\r\n",
        "    tf.keras.layers.Dense(10)\r\n",
        "])"
      ],
      "execution_count": 11,
      "outputs": []
    },
    {
      "cell_type": "code",
      "metadata": {
        "id": "YVDupN2fqhCe"
      },
      "source": [
        "model.compile(optimizer='adam',\r\n",
        "              loss=tf.keras.losses.SparseCategoricalCrossentropy(from_logits=True),\r\n",
        "              metrics=['accuracy'])"
      ],
      "execution_count": 12,
      "outputs": []
    },
    {
      "cell_type": "markdown",
      "metadata": {
        "id": "J6ek3HqRqrI1"
      },
      "source": [
        "*trenowanie modelu*"
      ]
    },
    {
      "cell_type": "code",
      "metadata": {
        "colab": {
          "base_uri": "https://localhost:8080/"
        },
        "id": "Oun7dOgdrK9Z",
        "outputId": "6bc5111b-6301-4084-a52a-35c66d764632"
      },
      "source": [
        "model.fit(train_images, train_labels, epochs=10)"
      ],
      "execution_count": 13,
      "outputs": [
        {
          "output_type": "stream",
          "text": [
            "Epoch 1/10\n",
            "1875/1875 [==============================] - 5s 1ms/step - loss: 0.6260 - accuracy: 0.7867\n",
            "Epoch 2/10\n",
            "1875/1875 [==============================] - 3s 1ms/step - loss: 0.3851 - accuracy: 0.8590\n",
            "Epoch 3/10\n",
            "1875/1875 [==============================] - 3s 1ms/step - loss: 0.3384 - accuracy: 0.8770\n",
            "Epoch 4/10\n",
            "1875/1875 [==============================] - 3s 1ms/step - loss: 0.3152 - accuracy: 0.8834\n",
            "Epoch 5/10\n",
            "1875/1875 [==============================] - 3s 1ms/step - loss: 0.2926 - accuracy: 0.8917\n",
            "Epoch 6/10\n",
            "1875/1875 [==============================] - 3s 1ms/step - loss: 0.2836 - accuracy: 0.8935\n",
            "Epoch 7/10\n",
            "1875/1875 [==============================] - 3s 1ms/step - loss: 0.2657 - accuracy: 0.9003\n",
            "Epoch 8/10\n",
            "1875/1875 [==============================] - 3s 1ms/step - loss: 0.2584 - accuracy: 0.9056\n",
            "Epoch 9/10\n",
            "1875/1875 [==============================] - 3s 1ms/step - loss: 0.2471 - accuracy: 0.9081\n",
            "Epoch 10/10\n",
            "1875/1875 [==============================] - 3s 1ms/step - loss: 0.2381 - accuracy: 0.9128\n"
          ],
          "name": "stdout"
        },
        {
          "output_type": "execute_result",
          "data": {
            "text/plain": [
              "<tensorflow.python.keras.callbacks.History at 0x7f9d10388748>"
            ]
          },
          "metadata": {
            "tags": []
          },
          "execution_count": 13
        }
      ]
    },
    {
      "cell_type": "code",
      "metadata": {
        "colab": {
          "base_uri": "https://localhost:8080/"
        },
        "id": "QyQCyz6frYqe",
        "outputId": "a53a4103-d953-418a-da63-477352f875c5"
      },
      "source": [
        "test_loss, test_acc = model.evaluate(test_images,  test_labels, verbose=2)\r\n",
        "\r\n",
        "print('\\nTest accuracy:', test_acc)"
      ],
      "execution_count": 14,
      "outputs": [
        {
          "output_type": "stream",
          "text": [
            "313/313 - 0s - loss: 0.3529 - accuracy: 0.8775\n",
            "\n",
            "Test accuracy: 0.8774999976158142\n"
          ],
          "name": "stdout"
        }
      ]
    },
    {
      "cell_type": "code",
      "metadata": {
        "colab": {
          "base_uri": "https://localhost:8080/"
        },
        "id": "FWd-vhV9rdSw",
        "outputId": "b1efc252-b54a-4966-e416-d29c33e62ce7"
      },
      "source": [
        "probability_model = tf.keras.Sequential([model, \r\n",
        "                                         tf.keras.layers.Softmax()])\r\n",
        "predictions = probability_model.predict(test_images)\r\n",
        "predictions[0]"
      ],
      "execution_count": 15,
      "outputs": [
        {
          "output_type": "execute_result",
          "data": {
            "text/plain": [
              "array([1.1642818e-09, 1.8251959e-13, 1.2250450e-12, 2.0166477e-12,\n",
              "       1.2937175e-09, 9.4941548e-05, 6.8599766e-09, 3.3125740e-02,\n",
              "       1.7233499e-10, 9.6677935e-01], dtype=float32)"
            ]
          },
          "metadata": {
            "tags": []
          },
          "execution_count": 15
        }
      ]
    },
    {
      "cell_type": "code",
      "metadata": {
        "colab": {
          "base_uri": "https://localhost:8080/"
        },
        "id": "C9xWIPYzroJX",
        "outputId": "13b30e83-bd9b-41df-a8b8-1c990b9e4ef6"
      },
      "source": [
        "np.argmax(predictions[0])"
      ],
      "execution_count": 16,
      "outputs": [
        {
          "output_type": "execute_result",
          "data": {
            "text/plain": [
              "9"
            ]
          },
          "metadata": {
            "tags": []
          },
          "execution_count": 16
        }
      ]
    },
    {
      "cell_type": "code",
      "metadata": {
        "colab": {
          "base_uri": "https://localhost:8080/"
        },
        "id": "ADC10SU0rr8y",
        "outputId": "c24f615b-fc76-4afd-cc1e-eeb8ab187bf5"
      },
      "source": [
        "test_labels[0]"
      ],
      "execution_count": 17,
      "outputs": [
        {
          "output_type": "execute_result",
          "data": {
            "text/plain": [
              "9"
            ]
          },
          "metadata": {
            "tags": []
          },
          "execution_count": 17
        }
      ]
    },
    {
      "cell_type": "code",
      "metadata": {
        "id": "XgdILxpKrs8j"
      },
      "source": [
        "def plot_image(i, predictions_array, true_label, img):\r\n",
        "  true_label, img = true_label[i], img[i]\r\n",
        "  plt.grid(False)\r\n",
        "  plt.xticks([])\r\n",
        "  plt.yticks([])\r\n",
        "\r\n",
        "  plt.imshow(img, cmap=plt.cm.binary)\r\n",
        "\r\n",
        "  predicted_label = np.argmax(predictions_array)\r\n",
        "  if predicted_label == true_label:\r\n",
        "    color = 'blue'\r\n",
        "  else:\r\n",
        "    color = 'red'\r\n",
        "\r\n",
        "  plt.xlabel(\"{} {:2.0f}% ({})\".format(class_names[predicted_label],\r\n",
        "                                100*np.max(predictions_array),\r\n",
        "                                class_names[true_label]),\r\n",
        "                                color=color)\r\n",
        "\r\n",
        "def plot_value_array(i, predictions_array, true_label):\r\n",
        "  true_label = true_label[i]\r\n",
        "  plt.grid(False)\r\n",
        "  plt.xticks(range(10))\r\n",
        "  plt.yticks([])\r\n",
        "  thisplot = plt.bar(range(10), predictions_array, color=\"#777777\")\r\n",
        "  plt.ylim([0, 1])\r\n",
        "  predicted_label = np.argmax(predictions_array)\r\n",
        "\r\n",
        "  thisplot[predicted_label].set_color('red')\r\n",
        "  thisplot[true_label].set_color('blue')"
      ],
      "execution_count": 19,
      "outputs": []
    },
    {
      "cell_type": "code",
      "metadata": {
        "colab": {
          "base_uri": "https://localhost:8080/",
          "height": 211
        },
        "id": "4HS022Jtrv_U",
        "outputId": "d5232066-b26e-43df-8525-41c09a1377f8"
      },
      "source": [
        "i = 0\r\n",
        "plt.figure(figsize=(6,3))\r\n",
        "plt.subplot(1,2,1)\r\n",
        "plot_image(i, predictions[i], test_labels, test_images)\r\n",
        "plt.subplot(1,2,2)\r\n",
        "plot_value_array(i, predictions[i],  test_labels)\r\n",
        "plt.show()"
      ],
      "execution_count": 23,
      "outputs": [
        {
          "output_type": "display_data",
          "data": {
            "image/png": "[encoded data removed]",
            "text/plain": [
              "<Figure size 432x216 with 2 Axes>"
            ]
          },
          "metadata": {
            "tags": [],
            "needs_background": "light"
          }
        }
      ]
    },
    {
      "cell_type": "code",
      "metadata": {
        "colab": {
          "base_uri": "https://localhost:8080/",
          "height": 211
        },
        "id": "ZSo0P1wMr78E",
        "outputId": "5ac50d24-310b-4867-8a25-8c1948cf736e"
      },
      "source": [
        "i = 12\r\n",
        "plt.figure(figsize=(6,3))\r\n",
        "plt.subplot(1,2,1)\r\n",
        "plot_image(i, predictions[i], test_labels, test_images)\r\n",
        "plt.subplot(1,2,2)\r\n",
        "plot_value_array(i, predictions[i],  test_labels)\r\n",
        "plt.show()"
      ],
      "execution_count": 22,
      "outputs": [
        {
          "output_type": "display_data",
          "data": {
            "image/png": "[encoded data removed]",
            "text/plain": [
              "<Figure size 432x216 with 2 Axes>"
            ]
          },
          "metadata": {
            "tags": [],
            "needs_background": "light"
          }
        }
      ]
    },
    {
      "cell_type": "code",
      "metadata": {
        "colab": {
          "base_uri": "https://localhost:8080/",
          "height": 728
        },
        "id": "kkp9zrPnsCk5",
        "outputId": "887156ff-ae39-483e-810d-875dd5d20ae0"
      },
      "source": [
        "# Plot the first X test images, their predicted labels, and the true labels.\r\n",
        "# Color correct predictions in blue and incorrect predictions in red.\r\n",
        "num_rows = 5\r\n",
        "num_cols = 3\r\n",
        "num_images = num_rows*num_cols\r\n",
        "plt.figure(figsize=(2*2*num_cols, 2*num_rows))\r\n",
        "for i in range(num_images):\r\n",
        "  plt.subplot(num_rows, 2*num_cols, 2*i+1)\r\n",
        "  plot_image(i, predictions[i], test_labels, test_images)\r\n",
        "  plt.subplot(num_rows, 2*num_cols, 2*i+2)\r\n",
        "  plot_value_array(i, predictions[i], test_labels)\r\n",
        "plt.tight_layout()\r\n",
        "plt.show()"
      ],
      "execution_count": 24,
      "outputs": [
        {
          "output_type": "display_data",
          "data": {
            "image/png": "[encoded data removed]",
            "text/plain": [
              "<Figure size 864x720 with 30 Axes>"
            ]
          },
          "metadata": {
            "tags": [],
            "needs_background": "light"
          }
        }
      ]
    },
    {
      "cell_type": "code",
      "metadata": {
        "colab": {
          "base_uri": "https://localhost:8080/"
        },
        "id": "rc9pJneJsGD4",
        "outputId": "d6307a05-b7ed-4a38-a118-f3cda980882b"
      },
      "source": [
        "# Grab an image from the test dataset.\r\n",
        "img = test_images[1]\r\n",
        "\r\n",
        "print(img.shape)"
      ],
      "execution_count": 25,
      "outputs": [
        {
          "output_type": "stream",
          "text": [
            "(28, 28)\n"
          ],
          "name": "stdout"
        }
      ]
    },
    {
      "cell_type": "code",
      "metadata": {
        "colab": {
          "base_uri": "https://localhost:8080/"
        },
        "id": "D8r0p9desK43",
        "outputId": "1929e317-c71e-4a32-d0d2-60f2a8192c51"
      },
      "source": [
        "# Add the image to a batch where it's the only member.\r\n",
        "img = (np.expand_dims(img,0))\r\n",
        "\r\n",
        "print(img.shape)"
      ],
      "execution_count": 26,
      "outputs": [
        {
          "output_type": "stream",
          "text": [
            "(1, 28, 28)\n"
          ],
          "name": "stdout"
        }
      ]
    },
    {
      "cell_type": "code",
      "metadata": {
        "colab": {
          "base_uri": "https://localhost:8080/"
        },
        "id": "weNdvH59sNcl",
        "outputId": "ef5a7614-a93a-44da-839e-0adaeb914824"
      },
      "source": [
        "predictions_single = probability_model.predict(img)\r\n",
        "\r\n",
        "print(predictions_single)"
      ],
      "execution_count": 27,
      "outputs": [
        {
          "output_type": "stream",
          "text": [
            "[[6.5532268e-04 1.8465449e-09 9.8861700e-01 1.5529707e-08 9.5551526e-03\n",
            "  3.8310696e-13 1.1724244e-03 1.4524621e-15 2.7410620e-09 6.2259981e-10]]\n"
          ],
          "name": "stdout"
        }
      ]
    },
    {
      "cell_type": "code",
      "metadata": {
        "colab": {
          "base_uri": "https://localhost:8080/",
          "height": 300
        },
        "id": "z2agz3m5sO0F",
        "outputId": "23b28d9a-7fc1-4e1a-836c-effaf0b65e9a"
      },
      "source": [
        "plot_value_array(1, predictions_single[0], test_labels)\r\n",
        "_ = plt.xticks(range(10), class_names, rotation=45)"
      ],
      "execution_count": 28,
      "outputs": [
        {
          "output_type": "display_data",
          "data": {
            "image/png": "[encoded data removed]",
            "text/plain": [
              "<Figure size 432x288 with 1 Axes>"
            ]
          },
          "metadata": {
            "tags": [],
            "needs_background": "light"
          }
        }
      ]
    },
    {
      "cell_type": "code",
      "metadata": {
        "colab": {
          "base_uri": "https://localhost:8080/"
        },
        "id": "BTQUHPKysQPr",
        "outputId": "9db1ff15-5482-4dd7-876c-48df801b0864"
      },
      "source": [
        "np.argmax(predictions_single[0])"
      ],
      "execution_count": 29,
      "outputs": [
        {
          "output_type": "execute_result",
          "data": {
            "text/plain": [
              "2"
            ]
          },
          "metadata": {
            "tags": []
          },
          "execution_count": 29
        }
      ]
    }
  ]
}